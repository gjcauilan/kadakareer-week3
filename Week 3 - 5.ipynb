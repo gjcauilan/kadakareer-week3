{
 "cells": [
  {
   "cell_type": "code",
   "execution_count": 1,
   "id": "e28c7ec7",
   "metadata": {},
   "outputs": [
    {
     "name": "stdout",
     "output_type": "stream",
     "text": [
      "-----Amazon Textract has detected as follows-----\n",
      "                              Key  \\\n",
      "0       WITH SIGNIFICANT FINDINGS   \n",
      "1       WITH SIGNIFICANT FINDINGS   \n",
      "2       WITH SIGNIFICANT FINDINGS   \n",
      "3                          Normal   \n",
      "4                          PASSED   \n",
      "..                            ...   \n",
      "63  ADDITIONAL TEST(S) (Specify):   \n",
      "64                  Mouth, Throat   \n",
      "65                         OD 20/   \n",
      "66                       A.O. No.   \n",
      "67                           Ears   \n",
      "\n",
      "                                                Value  \n",
      "0                                        NOT_SELECTED  \n",
      "1                                        NOT_SELECTED  \n",
      "2                                        NOT_SELECTED  \n",
      "3                                            SELECTED  \n",
      "4                                            SELECTED  \n",
      "..                                                ...  \n",
      "63  e.g. Blood Chemistries, Drug Test, Alcohol Tes...  \n",
      "64                                           SELECTED  \n",
      "65                                                 20  \n",
      "66                                          2013-0006  \n",
      "67                                           SELECTED  \n",
      "\n",
      "[68 rows x 2 columns]\n"
     ]
    }
   ],
   "source": [
    "import boto3\n",
    "import pandas as pd\n",
    "from trp import Document\n",
    "\n",
    "bucketname = \"kadakareer1\"\n",
    "formname = \"Appendix B - Annex C MER- AO2013-0006  2.jpg\"\n",
    "\n",
    "module = boto3.client('textract')\n",
    "\n",
    "response = module.analyze_document(\n",
    "    Document={\n",
    "        'S3Object': {\n",
    "            'Bucket': bucketname,\n",
    "            'Name': formname\n",
    "        }\n",
    "    },\n",
    "    FeatureTypes=[\"FORMS\"]\n",
    ")\n",
    "doc = Document(response)\n",
    "\n",
    "keys = []\n",
    "values = []\n",
    "\n",
    "for page in doc.pages:\n",
    "    for field in page.form.fields:\n",
    "        keys.append(field.key.text if field.key else \"\")\n",
    "        values.append(field.value.text if field.value else \"\")\n",
    "\n",
    "data = {'Key': keys, 'Value': values}\n",
    "df = pd.DataFrame(data)\n",
    "\n",
    "print('-----Amazon Textract has detected as follows-----')\n",
    "print(df)\n",
    "\n",
    "df.to_csv('Week 3 - 5.csv', index=False)"
   ]
  },
  {
   "cell_type": "code",
   "execution_count": null,
   "id": "ea844304",
   "metadata": {},
   "outputs": [],
   "source": []
  }
 ],
 "metadata": {
  "kernelspec": {
   "display_name": "Python 3 (ipykernel)",
   "language": "python",
   "name": "python3"
  },
  "language_info": {
   "codemirror_mode": {
    "name": "ipython",
    "version": 3
   },
   "file_extension": ".py",
   "mimetype": "text/x-python",
   "name": "python",
   "nbconvert_exporter": "python",
   "pygments_lexer": "ipython3",
   "version": "3.10.9"
  }
 },
 "nbformat": 4,
 "nbformat_minor": 5
}
