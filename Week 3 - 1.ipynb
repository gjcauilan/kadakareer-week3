{
 "cells": [
  {
   "cell_type": "code",
   "execution_count": 2,
   "id": "63f0cc9c",
   "metadata": {},
   "outputs": [
    {
     "name": "stdout",
     "output_type": "stream",
     "text": [
      "-----Amazon Textract has detected as follows-----\n",
      "                                                   Key  \\\n",
      "0                                         MIDDLE NAME:   \n",
      "1                                          GIVEN NAME:   \n",
      "2                                            RELIGION:   \n",
      "3                                         NATIONALITY:   \n",
      "4                                                  YES   \n",
      "..                                                 ...   \n",
      "97                                             JOS 20/   \n",
      "98                                            A.O. No.   \n",
      "99                   or Sleep Depression, other Mental   \n",
      "100                                PASSPORT SIZE PHOTO   \n",
      "101  8. Are you taking any non-prescription or pres...   \n",
      "\n",
      "                                                 Value  \n",
      "0                                               ISAACS  \n",
      "1                                                JAMES  \n",
      "2                                                 NONE  \n",
      "3                                             FILIPINO  \n",
      "4                                         NOT_SELECTED  \n",
      "..                                                 ...  \n",
      "97                                                  20  \n",
      "98                                           2013-0006  \n",
      "99       Spells, Fits, Selzures Neurological Disorders  \n",
      "100                                                     \n",
      "101  If yes, please list the medication(s) taken/be...  \n",
      "\n",
      "[102 rows x 2 columns]\n"
     ]
    }
   ],
   "source": [
    "import boto3\n",
    "import pandas as pd\n",
    "from trp import Document\n",
    "\n",
    "bucketname = \"kadakareer1\"\n",
    "formname = \"MER_Annex D_seabed 1.jpg\"\n",
    "\n",
    "module = boto3.client('textract')\n",
    "\n",
    "response = module.analyze_document(\n",
    "    Document={\n",
    "        'S3Object': {\n",
    "            'Bucket': bucketname,\n",
    "            'Name': formname\n",
    "        }\n",
    "    },\n",
    "    FeatureTypes=[\"FORMS\"]\n",
    ")\n",
    "doc = Document(response)\n",
    "\n",
    "keys = []\n",
    "values = []\n",
    "\n",
    "for page in doc.pages:\n",
    "    for field in page.form.fields:\n",
    "        keys.append(field.key.text if field.key else \"\")\n",
    "        values.append(field.value.text if field.value else \"\")\n",
    "\n",
    "data = {'Key': keys, 'Value': values}\n",
    "df = pd.DataFrame(data)\n",
    "\n",
    "print('-----Amazon Textract has detected as follows-----')\n",
    "print(df)\n",
    "\n",
    "df.to_csv('Week 3 - 1.csv', index=False)"
   ]
  },
  {
   "cell_type": "code",
   "execution_count": null,
   "id": "4d51ef4d",
   "metadata": {},
   "outputs": [],
   "source": []
  }
 ],
 "metadata": {
  "kernelspec": {
   "display_name": "Python 3 (ipykernel)",
   "language": "python",
   "name": "python3"
  },
  "language_info": {
   "codemirror_mode": {
    "name": "ipython",
    "version": 3
   },
   "file_extension": ".py",
   "mimetype": "text/x-python",
   "name": "python",
   "nbconvert_exporter": "python",
   "pygments_lexer": "ipython3",
   "version": "3.10.9"
  }
 },
 "nbformat": 4,
 "nbformat_minor": 5
}
