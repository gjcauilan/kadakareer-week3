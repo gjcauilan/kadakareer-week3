{
 "cells": [
  {
   "cell_type": "code",
   "execution_count": 1,
   "id": "b70a0702",
   "metadata": {},
   "outputs": [
    {
     "name": "stdout",
     "output_type": "stream",
     "text": [
      "-----Amazon Textract has detected as follows-----\n",
      "                                                  Key         Value\n",
      "0                                                  NO      SELECTED\n",
      "1                                                 YES  NOT_SELECTED\n",
      "2                                                  NO      SELECTED\n",
      "3                                                 YES  NOT_SELECTED\n",
      "4                                                  NO      SELECTED\n",
      "..                                                ...           ...\n",
      "74                                          Comments:              \n",
      "75  8. Are you taking any non-prescription or pres...              \n",
      "76                                                 NO      SELECTED\n",
      "77                                                 NO      SELECTED\n",
      "78                                           A.O. No.     2013-0006\n",
      "\n",
      "[79 rows x 2 columns]\n"
     ]
    }
   ],
   "source": [
    "import boto3\n",
    "import pandas as pd\n",
    "from trp import Document\n",
    "\n",
    "bucketname = \"kadakareer1\"\n",
    "formname = \"Appendix B - Annex C MER- AO2013-0006 1.jpg\"\n",
    "\n",
    "module = boto3.client('textract')\n",
    "\n",
    "response = module.analyze_document(\n",
    "    Document={\n",
    "        'S3Object': {\n",
    "            'Bucket': bucketname,\n",
    "            'Name': formname\n",
    "        }\n",
    "    },\n",
    "    FeatureTypes=[\"FORMS\"]\n",
    ")\n",
    "doc = Document(response)\n",
    "\n",
    "keys = []\n",
    "values = []\n",
    "\n",
    "for page in doc.pages:\n",
    "    for field in page.form.fields:\n",
    "        keys.append(field.key.text if field.key else \"\")\n",
    "        values.append(field.value.text if field.value else \"\")\n",
    "\n",
    "data = {'Key': keys, 'Value': values}\n",
    "df = pd.DataFrame(data)\n",
    "\n",
    "print('-----Amazon Textract has detected as follows-----')\n",
    "print(df)\n",
    "\n",
    "df.to_csv('Week 3 - 4.csv', index=False)"
   ]
  },
  {
   "cell_type": "code",
   "execution_count": null,
   "id": "a3c86881",
   "metadata": {},
   "outputs": [],
   "source": []
  }
 ],
 "metadata": {
  "kernelspec": {
   "display_name": "Python 3 (ipykernel)",
   "language": "python",
   "name": "python3"
  },
  "language_info": {
   "codemirror_mode": {
    "name": "ipython",
    "version": 3
   },
   "file_extension": ".py",
   "mimetype": "text/x-python",
   "name": "python",
   "nbconvert_exporter": "python",
   "pygments_lexer": "ipython3",
   "version": "3.10.9"
  }
 },
 "nbformat": 4,
 "nbformat_minor": 5
}
