{
 "cells": [
  {
   "cell_type": "code",
   "execution_count": 1,
   "id": "8be34372",
   "metadata": {},
   "outputs": [
    {
     "name": "stdout",
     "output_type": "stream",
     "text": [
      "-----Amazon Textract has detected as follows-----\n",
      "                                                  Key           Value\n",
      "0                                            REACTIVE    NOT_SELECTED\n",
      "1                                         NONREACTIVE        SELECTED\n",
      "2                                               Name:    JAMES DEVLIN\n",
      "3                              Particle Agglutination    NOT_SELECTED\n",
      "4                                   EIA / CMIA / ELFA    NOT_SELECTED\n",
      "5                                            Address:      PASIG CITY\n",
      "6                                               RAPID        SELECTED\n",
      "7                                         Pathologist      DAVID CHAN\n",
      "8                                         Expiry date       25/9/2024\n",
      "9                                       Civil Status:          SINGLE\n",
      "10                          HIV Proficiency Cert. No.      5678701234\n",
      "11                                               Sex:               M\n",
      "12                                        License No.      4567890123\n",
      "13                                               Age:              30\n",
      "14                                              Date:       25/9/2023\n",
      "15                        Date of Medical Examination       25/9/2023\n",
      "16                                Examining Physician      CLARK TONG\n",
      "17                               Medical Technologist      JOHN SMITH\n",
      "18                                   Others (specify)                \n",
      "19                                           A.O. No.       2013-0006\n",
      "20  has undergone screening test for HIV/Acquired ...    JAMES DEVLIN\n",
      "21                                            Picture                \n",
      "22                               Screening Test Used:  (please check)\n",
      "23                                MFOWS-Annex I-HIVST      06/08/2011\n",
      "24                                            ANNEX -               I\n"
     ]
    }
   ],
   "source": [
    "import boto3\n",
    "import pandas as pd\n",
    "from trp import Document\n",
    "\n",
    "bucketname = \"kadakareer1\"\n",
    "formname = \"final_Annex-I_HIV-Screening-Cert.jpg\"\n",
    "\n",
    "module = boto3.client('textract')\n",
    "\n",
    "response = module.analyze_document(\n",
    "    Document={\n",
    "        'S3Object': {\n",
    "            'Bucket': bucketname,\n",
    "            'Name': formname\n",
    "        }\n",
    "    },\n",
    "    FeatureTypes=[\"FORMS\"]\n",
    ")\n",
    "doc = Document(response)\n",
    "\n",
    "keys = []\n",
    "values = []\n",
    "\n",
    "for page in doc.pages:\n",
    "    for field in page.form.fields:\n",
    "        keys.append(field.key.text if field.key else \"\")\n",
    "        values.append(field.value.text if field.value else \"\")\n",
    "\n",
    "data = {'Key': keys, 'Value': values}\n",
    "df = pd.DataFrame(data)\n",
    "\n",
    "print('-----Amazon Textract has detected as follows-----')\n",
    "print(df)\n",
    "\n",
    "df.to_csv('Week 3 - 3.csv', index=False)"
   ]
  },
  {
   "cell_type": "code",
   "execution_count": null,
   "id": "f2611996",
   "metadata": {},
   "outputs": [],
   "source": []
  }
 ],
 "metadata": {
  "kernelspec": {
   "display_name": "Python 3 (ipykernel)",
   "language": "python",
   "name": "python3"
  },
  "language_info": {
   "codemirror_mode": {
    "name": "ipython",
    "version": 3
   },
   "file_extension": ".py",
   "mimetype": "text/x-python",
   "name": "python",
   "nbconvert_exporter": "python",
   "pygments_lexer": "ipython3",
   "version": "3.10.9"
  }
 },
 "nbformat": 4,
 "nbformat_minor": 5
}
